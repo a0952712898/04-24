{
 "cells": [
  {
   "cell_type": "code",
   "execution_count": 26,
   "metadata": {},
   "outputs": [
    {
     "name": "stdout",
     "output_type": "stream",
     "text": [
      "99\n",
      "優等\n"
     ]
    }
   ],
   "source": [
    "x = input()\n",
    "if str.isdigit(x):\n",
    "    x = float(x)\n",
    "    if x<60:\n",
    "        print(\"不及格\")\n",
    "    elif x>=60 and int(x)<80:\n",
    "        print(\"及格\")\n",
    "    elif x>=80:\n",
    "        print(\"優等\")\n",
    "else:\n",
    "    print(\"未知\")\n",
    "    "
   ]
  }
 ],
 "metadata": {
  "kernelspec": {
   "display_name": "Python 3",
   "language": "python",
   "name": "python3"
  },
  "language_info": {
   "codemirror_mode": {
    "name": "ipython",
    "version": 3
   },
   "file_extension": ".py",
   "mimetype": "text/x-python",
   "name": "python",
   "nbconvert_exporter": "python",
   "pygments_lexer": "ipython3",
   "version": "3.6.3"
  }
 },
 "nbformat": 4,
 "nbformat_minor": 2
}
